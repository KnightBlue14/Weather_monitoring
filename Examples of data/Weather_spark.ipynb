{
  "nbformat": 4,
  "nbformat_minor": 0,
  "metadata": {
    "colab": {
      "provenance": []
    },
    "kernelspec": {
      "name": "python3",
      "display_name": "Python 3"
    },
    "language_info": {
      "name": "python"
    }
  },
  "cells": [
    {
      "cell_type": "code",
      "execution_count": 1,
      "metadata": {
        "colab": {
          "base_uri": "https://localhost:8080/",
          "height": 428
        },
        "id": "U8EIQr3TmFSY",
        "outputId": "5db2181f-b49b-41e1-cc1f-8822e74cc07f"
      },
      "outputs": [
        {
          "output_type": "stream",
          "name": "stdout",
          "text": [
            "Collecting pyspark\n",
            "  Downloading pyspark-3.5.0.tar.gz (316.9 MB)\n",
            "\u001b[2K     \u001b[90m━━━━━━━━━━━━━━━━━━━━━━━━━━━━━━━━━━━━━━━━\u001b[0m \u001b[32m316.9/316.9 MB\u001b[0m \u001b[31m3.7 MB/s\u001b[0m eta \u001b[36m0:00:00\u001b[0m\n",
            "\u001b[?25h  Preparing metadata (setup.py) ... \u001b[?25l\u001b[?25hdone\n",
            "Requirement already satisfied: py4j==0.10.9.7 in /usr/local/lib/python3.10/dist-packages (from pyspark) (0.10.9.7)\n",
            "Building wheels for collected packages: pyspark\n",
            "  Building wheel for pyspark (setup.py) ... \u001b[?25l\u001b[?25hdone\n",
            "  Created wheel for pyspark: filename=pyspark-3.5.0-py2.py3-none-any.whl size=317425345 sha256=9c656efadecc5559e35ac8d306a445fb4ddf5c4230f1a4114e1960b6d292e38f\n",
            "  Stored in directory: /root/.cache/pip/wheels/41/4e/10/c2cf2467f71c678cfc8a6b9ac9241e5e44a01940da8fbb17fc\n",
            "Successfully built pyspark\n",
            "Installing collected packages: pyspark\n",
            "Successfully installed pyspark-3.5.0\n"
          ]
        },
        {
          "output_type": "execute_result",
          "data": {
            "text/plain": [
              "<pyspark.sql.session.SparkSession at 0x7a6deb370ca0>"
            ],
            "text/html": [
              "\n",
              "            <div>\n",
              "                <p><b>SparkSession - in-memory</b></p>\n",
              "                \n",
              "        <div>\n",
              "            <p><b>SparkContext</b></p>\n",
              "\n",
              "            <p><a href=\"http://7aea66c42278:4040\">Spark UI</a></p>\n",
              "\n",
              "            <dl>\n",
              "              <dt>Version</dt>\n",
              "                <dd><code>v3.5.0</code></dd>\n",
              "              <dt>Master</dt>\n",
              "                <dd><code>local[*]</code></dd>\n",
              "              <dt>AppName</dt>\n",
              "                <dd><code>pysparkdf</code></dd>\n",
              "            </dl>\n",
              "        </div>\n",
              "        \n",
              "            </div>\n",
              "        "
            ]
          },
          "metadata": {},
          "execution_count": 1
        }
      ],
      "source": [
        "!pip install pyspark\n",
        "import pyspark\n",
        "from pyspark.sql import SparkSession\n",
        "\n",
        "spark=SparkSession.builder.appName(\"pysparkdf\").getOrCreate()\n",
        "spark"
      ]
    },
    {
      "cell_type": "code",
      "source": [
        "df = spark.read.format('csv').option('header','true').load('Weather_Leeds.csv')\n",
        "df = df.drop('_c0')"
      ],
      "metadata": {
        "id": "Ic3GtruXwWn8"
      },
      "execution_count": 2,
      "outputs": []
    },
    {
      "cell_type": "code",
      "source": [
        "df.show()"
      ],
      "metadata": {
        "colab": {
          "base_uri": "https://localhost:8080/"
        },
        "id": "kLGhQ6s9wXI2",
        "outputId": "efb28898-f9c6-48cd-f9c8-129fc4d06a52"
      },
      "execution_count": 3,
      "outputs": [
        {
          "output_type": "stream",
          "name": "stdout",
          "text": [
            "+-------------------+-----+----------+-------+--------+---------+-----------+--------+--------+--------+--------+----------+----------+-----------+-------+-------+-------+-------+----------+-------------+--------------------+----------+-------------------+-------------------+-----------------+------+-----+-----+-----+-----+----+-----+-----+\n",
            "|          Timestamp| City|Population|Country|Latitude|Longitude|Temperature|Temp_min|Temp_max|Pressure|Humidity|Visibility|Wind_speed|Wind_degree|Rain_1h|Rain_3h|Snow_1h|Snow_3h|Weather_ID|Weather_group|         Description|Cloudiness|            Sunrise|             Sunset|Air_quality_index|    CO|   NO|  NO2|   O3|  SO2| NH3|PM2_5| PM10|\n",
            "+-------------------+-----+----------+-------+--------+---------+-----------+--------+--------+--------+--------+----------+----------+-----------+-------+-------+-------+-------+----------+-------------+--------------------+----------+-------------------+-------------------+-----------------+------+-----+-----+-----+-----+----+-----+-----+\n",
            "|2023-12-11 20:00:02|Leeds|    455123|     GB| 53.7965| -1.54785|       5.98|    4.36|    7.56|    1004|      97|     10000|      1.54|      140.0|    0.0|    0.0|    0.0|    0.0|       803|       Clouds|       broken clouds|        75|2023-12-11 08:13:31|2023-12-11 15:45:14|                2|380.52|66.16|51.41|  0.0|20.74|5.26|13.86|15.68|\n",
            "|2023-12-11 20:30:04|Leeds|    455123|     GB| 53.7965| -1.54785|        6.3|    4.41|    7.31|    1004|      94|      6000|      1.54|      140.0|    0.0|    0.0|    0.0|    0.0|       803|       Clouds|       broken clouds|        75|2023-12-11 08:13:31|2023-12-11 15:45:15|                2|407.22|78.68|50.04|  0.0|21.22|5.19|16.31|18.36|\n",
            "|2023-12-11 21:00:03|Leeds|    455123|     GB| 53.7965| -1.54785|       6.49|    4.91|    7.16|    1004|      98|     10000|      1.54|      120.0|    0.0|    0.0|    0.0|    0.0|       300|      Drizzle|light intensity d...|        75|2023-12-11 08:13:31|2023-12-11 15:45:14|                2|407.22|78.68|50.04|  0.0|21.22|5.19|16.31|18.36|\n",
            "|2023-12-11 21:30:03|Leeds|    455123|     GB| 53.7965| -1.54785|        6.0|    4.61|    7.16|    1004|      97|     10000|      1.54|       90.0|    0.0|    0.0|    0.0|    0.0|       300|      Drizzle|light intensity d...|        75|2023-12-11 08:13:31|2023-12-11 15:45:14|                2|433.92|89.41|48.67|  0.0|15.74|3.48|18.66|20.83|\n",
            "|2023-12-11 22:00:03|Leeds|    455123|     GB| 53.7965| -1.54785|       6.24|    4.23|    7.16|    1004|      98|      3000|      1.54|      110.0|    0.0|    0.0|    0.0|    0.0|       300|      Drizzle|light intensity d...|       100|2023-12-11 08:13:31|2023-12-11 15:45:14|                2|433.92|89.41|48.67|  0.0|15.74|3.48|18.66|20.83|\n",
            "|2023-12-11 22:30:03|Leeds|    455123|     GB| 53.7965| -1.54785|        6.0|    4.61|    7.16|    1004|      95|       500|      1.54|      100.0|    0.0|    0.0|    0.0|    0.0|       741|          Fog|                 fog|        75|2023-12-11 08:13:31|2023-12-11 15:45:14|                2| 440.6|88.51|47.98|  0.0|10.13|2.19|19.62|21.46|\n",
            "|2023-12-11 23:00:03|Leeds|    455123|     GB| 53.7965| -1.54785|        6.0|    4.61|    7.02|    1004|      93|       300|      2.06|      130.0|    0.0|    0.0|    0.0|    0.0|       741|          Fog|                 fog|        75|2023-12-11 08:13:31|2023-12-11 15:45:14|                2| 440.6|88.51|47.98|  0.0|10.13|2.19|19.62|21.46|\n",
            "|2023-12-11 23:30:03|Leeds|    455123|     GB| 53.7965| -1.54785|       5.77|    4.91|    6.79|    1003|      96|       400|      1.54|       90.0|    0.0|    0.0|    0.0|    0.0|       741|          Fog|                 fog|        75|2023-12-11 08:13:31|2023-12-11 15:45:14|                2|420.57|71.53|45.93|  0.0| 5.72|1.46|17.77|18.81|\n",
            "|2023-12-12 00:00:03|Leeds|    455123|     GB| 53.7965| -1.54785|       5.48|    4.91|    7.35|    1003|      93|     10000|       2.0|      104.0|    0.0|    0.0|    0.0|    0.0|       804|       Clouds|     overcast clouds|        87|2023-12-12 08:14:35|2023-12-12 15:45:04|                2|420.57|71.53|45.93|  0.0| 5.72|1.46|17.77|18.81|\n",
            "|2023-12-12 00:30:03|Leeds|    455123|     GB| 53.7965| -1.54785|       5.39|    4.36|    7.56|    1003|      93|     10000|      0.45|       85.0|    0.0|    0.0|    0.0|    0.0|       804|       Clouds|     overcast clouds|       100|2023-12-12 08:14:35|2023-12-12 15:45:04|                2|360.49|36.66| 47.3|  0.0| 4.17|1.01|11.98|12.58|\n",
            "|2023-12-12 01:00:03|Leeds|    455123|     GB| 53.7965| -1.54785|       5.26|    4.23|    7.43|    1002|      94|     10000|      2.16|      104.0|    0.0|    0.0|    0.0|    0.0|       804|       Clouds|     overcast clouds|       100|2023-12-12 08:14:37|2023-12-12 15:45:02|                2|360.49|36.66| 47.3|  0.0| 4.17|1.01|11.98|12.58|\n",
            "|2023-12-12 01:30:02|Leeds|    455123|     GB| 53.7965| -1.54785|       5.39|    4.36|    7.56|    1001|      94|     10000|      0.45|      125.0|    0.0|    0.0|    0.0|    0.0|       804|       Clouds|     overcast clouds|       100|2023-12-12 08:14:35|2023-12-12 15:45:04|                2|330.45|22.58|43.53| 0.01| 3.16|0.61| 9.19| 9.84|\n",
            "|2023-12-12 02:00:02|Leeds|    455123|     GB| 53.7965| -1.54785|       5.43|     3.8|    7.56|    1001|      94|     10000|      0.45|      131.0|    0.0|    0.0|    0.0|    0.0|       804|       Clouds|     overcast clouds|       100|2023-12-12 08:14:35|2023-12-12 15:45:04|                2|330.45|22.58|43.53| 0.01| 3.16|0.61| 9.19| 9.84|\n",
            "|2023-12-12 02:30:02|Leeds|    455123|     GB| 53.7965| -1.54785|       5.52|    3.88|     7.9|    1001|      93|     10000|      2.82|      113.0|    0.0|    0.0|    0.0|    0.0|       501|         Rain|       moderate rain|       100|2023-12-12 08:14:35|2023-12-12 15:45:04|                2|310.42|12.85|41.47| 0.09| 3.16|0.52| 8.29| 9.19|\n",
            "|2023-12-12 03:00:02|Leeds|    455123|     GB| 53.7965| -1.54785|        5.6|    4.91|    7.56|    1000|      93|     10000|      0.45|      125.0|    0.0|    0.0|    0.0|    0.0|       500|         Rain|          light rain|       100|2023-12-12 08:14:35|2023-12-12 15:45:04|                2|310.42|12.85|41.47| 0.09| 3.16|0.52| 8.29| 9.19|\n",
            "|2023-12-12 03:30:02|Leeds|    455123|     GB| 53.7965| -1.54785|       5.83|    4.88|    7.56|    1000|      93|      3090|      0.45|       79.0|    0.0|    0.0|    0.0|    0.0|       502|         Rain|heavy intensity rain|       100|2023-12-12 08:14:35|2023-12-12 15:45:04|                1|283.72| 2.18|37.01| 3.53| 2.89| 0.4| 6.73| 7.75|\n",
            "|2023-12-12 04:00:02|Leeds|    455123|     GB| 53.7965| -1.54785|       5.96|    5.47|    7.01|     999|      93|      3090|      0.45|       98.0|    0.0|    0.0|    0.0|    0.0|       502|         Rain|heavy intensity rain|       100|2023-12-12 08:14:35|2023-12-12 15:45:04|                1|283.72| 2.18|37.01| 3.53| 2.89| 0.4| 6.73| 7.75|\n",
            "|2023-12-12 04:30:02|Leeds|    455123|     GB| 53.7965| -1.54785|       6.09|    4.88|    7.56|     999|      93|      3092|      0.45|      115.0|    0.0|    0.0|    0.0|    0.0|       500|         Rain|          light rain|       100|2023-12-12 08:14:35|2023-12-12 15:45:04|                1|260.35| 0.15|23.99|13.05| 2.27|0.31| 5.09| 5.81|\n",
            "|2023-12-12 05:00:02|Leeds|    455123|     GB| 53.7965| -1.54785|       6.14|    5.47|    7.56|     998|      93|       275|      0.45|      102.0|    0.0|    0.0|    0.0|    0.0|       804|       Clouds|     overcast clouds|       100|2023-12-12 08:14:35|2023-12-12 15:45:04|                1|260.35| 0.15|23.99|13.05| 2.27|0.31| 5.09| 5.81|\n",
            "|2023-12-12 05:30:02|Leeds|    455123|     GB| 53.7965| -1.54785|       6.12|    5.47|    7.56|     998|      96|      1300|      2.57|      100.0|    0.0|    0.0|    0.0|    0.0|       701|         Mist|                mist|        75|2023-12-12 08:14:35|2023-12-12 15:45:04|                1|243.66| 0.07|15.94| 21.1| 2.41|0.27| 4.85| 5.38|\n",
            "+-------------------+-----+----------+-------+--------+---------+-----------+--------+--------+--------+--------+----------+----------+-----------+-------+-------+-------+-------+----------+-------------+--------------------+----------+-------------------+-------------------+-----------------+------+-----+-----+-----+-----+----+-----+-----+\n",
            "only showing top 20 rows\n",
            "\n"
          ]
        }
      ]
    },
    {
      "cell_type": "code",
      "source": [
        "from pyspark.sql.functions import *"
      ],
      "metadata": {
        "id": "ckX-BPsLFjg2"
      },
      "execution_count": 4,
      "outputs": []
    },
    {
      "cell_type": "markdown",
      "source": [
        "The rows were successfuly imported, but all as strings, so this block was needed to carry out operations"
      ],
      "metadata": {
        "id": "iV08kj-05PHS"
      }
    },
    {
      "cell_type": "code",
      "source": [
        "df = df.withColumn('Timestamp', df.Timestamp.cast('timestamp'))\n",
        "df = df.withColumn('Population', df.Population.cast('int'))\n",
        "df = df.withColumn('Latitude', df.Latitude.cast('float'))\n",
        "df = df.withColumn('Longitude', df.Longitude.cast('float'))\n",
        "df = df.withColumn('Temperature', df.Temperature.cast('float'))\n",
        "df = df.withColumn('Temp_min', df.Temp_min.cast('float'))\n",
        "df = df.withColumn('Temp_max', df.Temp_max.cast('float'))\n",
        "df = df.withColumn('Pressure', df.Pressure.cast('int'))\n",
        "df = df.withColumn('Humidity', df.Humidity.cast('int'))\n",
        "df = df.withColumn('Visibility', df.Visibility.cast('int'))\n",
        "df = df.withColumn('Wind_speed', df.Wind_speed.cast('float'))\n",
        "df = df.withColumn('Wind_degree', df.Wind_degree.cast('float'))\n",
        "df = df.withColumn('Rain_1h', df.Rain_1h.cast('int'))\n",
        "df = df.withColumn('Rain_3h', df.Rain_1h.cast('int'))\n",
        "df = df.withColumn('Snow_1h', df.Snow_1h.cast('int'))\n",
        "df = df.withColumn('Snow_3h', df.Snow_3h.cast('int'))\n",
        "df = df.withColumn('Weather_ID', df.Weather_ID.cast('int'))\n",
        "df = df.withColumn('Cloudiness', df.Cloudiness.cast('int'))\n",
        "df = df.withColumn('Sunrise', df.Sunrise.cast('timestamp'))\n",
        "df = df.withColumn('Sunset', df.Sunset.cast('timestamp'))\n",
        "df = df.withColumn('Air_quality_index', df.Air_quality_index.cast('int'))\n",
        "df = df.withColumn('CO', df.CO.cast('float'))\n",
        "df = df.withColumn('NO', df.NO.cast('float'))\n",
        "df = df.withColumn('NO2', df.NO2.cast('float'))\n",
        "df = df.withColumn('O3', df.O3.cast('float'))\n",
        "df = df.withColumn('SO2', df.SO2.cast('float'))\n",
        "df = df.withColumn('NH3', df.NH3.cast('float'))\n",
        "df = df.withColumn('PM2_5', df.PM2_5.cast('float'))\n",
        "df = df.withColumn('PM10', df.PM10.cast('float'))"
      ],
      "metadata": {
        "id": "JnaDK53XFmMJ"
      },
      "execution_count": 5,
      "outputs": []
    },
    {
      "cell_type": "code",
      "source": [
        "temps = df.select('Temperature')\n",
        "median = np.median(temps.collect())\n",
        "print(median)"
      ],
      "metadata": {
        "colab": {
          "base_uri": "https://localhost:8080/"
        },
        "id": "pBg2kw1jGp80",
        "outputId": "85965533-7c40-41be-f714-c3052b24fa82"
      },
      "execution_count": 6,
      "outputs": [
        {
          "output_type": "stream",
          "name": "stdout",
          "text": [
            "6.260000228881836\n"
          ]
        }
      ]
    },
    {
      "cell_type": "code",
      "source": [
        "temps2 = df.select('Timestamp','Temperature','CO')\n",
        "temps2.show()"
      ],
      "metadata": {
        "colab": {
          "base_uri": "https://localhost:8080/"
        },
        "id": "1J6CdGSMaOPa",
        "outputId": "0a7e22ea-b1b9-46b7-8599-99ff6ad9b005"
      },
      "execution_count": 8,
      "outputs": [
        {
          "output_type": "stream",
          "name": "stdout",
          "text": [
            "+-------------------+-----------+------+\n",
            "|          Timestamp|Temperature|    CO|\n",
            "+-------------------+-----------+------+\n",
            "|2023-12-11 20:00:02|       5.98|380.52|\n",
            "|2023-12-11 20:30:04|        6.3|407.22|\n",
            "|2023-12-11 21:00:03|       6.49|407.22|\n",
            "|2023-12-11 21:30:03|        6.0|433.92|\n",
            "|2023-12-11 22:00:03|       6.24|433.92|\n",
            "|2023-12-11 22:30:03|        6.0| 440.6|\n",
            "|2023-12-11 23:00:03|        6.0| 440.6|\n",
            "|2023-12-11 23:30:03|       5.77|420.57|\n",
            "|2023-12-12 00:00:03|       5.48|420.57|\n",
            "|2023-12-12 00:30:03|       5.39|360.49|\n",
            "|2023-12-12 01:00:03|       5.26|360.49|\n",
            "|2023-12-12 01:30:02|       5.39|330.45|\n",
            "|2023-12-12 02:00:02|       5.43|330.45|\n",
            "|2023-12-12 02:30:02|       5.52|310.42|\n",
            "|2023-12-12 03:00:02|        5.6|310.42|\n",
            "|2023-12-12 03:30:02|       5.83|283.72|\n",
            "|2023-12-12 04:00:02|       5.96|283.72|\n",
            "|2023-12-12 04:30:02|       6.09|260.35|\n",
            "|2023-12-12 05:00:02|       6.14|260.35|\n",
            "|2023-12-12 05:30:02|       6.12|243.66|\n",
            "+-------------------+-----------+------+\n",
            "only showing top 20 rows\n",
            "\n"
          ]
        }
      ]
    },
    {
      "cell_type": "markdown",
      "source": [
        "The temperature and CO levels do not appear to directly correlate - as the temperature dips, so does the CO concentration, but when temperature begins to climb again, the CO concentration does not"
      ],
      "metadata": {
        "id": "pXd0_0BW46Be"
      }
    },
    {
      "cell_type": "code",
      "source": [
        "poll = df.select('Timestamp','Air_quality_index','CO','NO','NO2','O3','SO2','NH3','PM2_5','PM10')\n",
        "poll = poll.sort(col('CO').asc())\n",
        "poll.show()"
      ],
      "metadata": {
        "colab": {
          "base_uri": "https://localhost:8080/"
        },
        "id": "lCoSITjIDLgY",
        "outputId": "7c88ba9d-508a-46bf-d1f8-6141664af88f"
      },
      "execution_count": 37,
      "outputs": [
        {
          "output_type": "stream",
          "name": "stdout",
          "text": [
            "+-------------------+-----------------+------+----+-----+-----+----+----+-----+----+\n",
            "|          Timestamp|Air_quality_index|    CO|  NO|  NO2|   O3| SO2| NH3|PM2_5|PM10|\n",
            "+-------------------+-----------------+------+----+-----+-----+----+----+-----+----+\n",
            "|2023-12-13 02:30:03|                1|223.64|0.01| 6.08|31.47|1.24|0.55| 1.34|1.86|\n",
            "|2023-12-13 03:00:03|                1|223.64|0.01| 6.08|31.47|1.24|0.55| 1.34|1.86|\n",
            "|2023-12-13 01:30:03|                1|226.97|0.01| 7.11|32.19|1.22|0.52| 2.17| 2.8|\n",
            "|2023-12-13 02:00:04|                1|226.97|0.01| 7.11|32.19|1.22|0.52| 2.17| 2.8|\n",
            "|2023-12-13 03:30:02|                1|230.31|0.01| 7.03|28.61|1.25|0.48| 1.09| 1.5|\n",
            "|2023-12-13 04:00:02|                1|230.31|0.01| 7.03|28.61|1.25|0.48| 1.09| 1.5|\n",
            "|2023-12-16 00:30:02|                2|230.31| 0.0| 4.37|67.95|1.68|0.21|  1.5|2.88|\n",
            "|2023-12-13 00:30:04|                1|236.99|0.01|11.48|27.18|1.42| 0.4| 3.88|4.31|\n",
            "|2023-12-13 01:00:03|                1|236.99|0.01|11.48|27.18|1.42| 0.4| 3.88|4.31|\n",
            "|2023-12-13 05:00:06|                1|236.99|0.01|  7.8|29.33| 1.3|0.43| 1.33|1.98|\n",
            "|2023-12-14 13:30:03|                1|236.99|0.43| 9.34|54.36|2.65|0.52| 1.49|2.27|\n",
            "|2023-12-14 14:00:02|                1|236.99|0.43| 9.34|54.36|2.65|0.52| 1.49|2.27|\n",
            "|2023-12-14 14:30:02|                1|240.33|0.23| 8.91|56.51|2.56| 0.5| 1.72|3.19|\n",
            "|2023-12-15 03:30:02|                2|240.33| 0.0| 4.33|62.94| 1.7|0.39| 1.41|4.02|\n",
            "|2023-12-14 15:00:03|                1|240.33|0.23| 8.91|56.51|2.56| 0.5| 1.72|3.19|\n",
            "|2023-12-15 04:00:02|                2|240.33| 0.0| 4.33|62.94| 1.7|0.39| 1.41|4.02|\n",
            "|2023-12-15 04:30:02|                2|240.33| 0.0| 4.97|62.23|1.77| 0.4| 1.47|3.93|\n",
            "|2023-12-15 02:30:02|                2|240.33| 0.0| 4.37|62.23|1.71| 0.4| 1.39|4.29|\n",
            "|2023-12-15 03:00:02|                2|240.33| 0.0| 4.37|62.23|1.71| 0.4| 1.39|4.29|\n",
            "|2023-12-15 05:00:02|                2|240.33| 0.0| 4.97|62.23|1.77| 0.4| 1.47|3.93|\n",
            "+-------------------+-----------------+------+----+-----+-----+----+----+-----+----+\n",
            "only showing top 20 rows\n",
            "\n"
          ]
        }
      ]
    },
    {
      "cell_type": "markdown",
      "source": [
        "Sorting by the concentration of CO shows that it is not the sole contributor to the air quality index (which is explained in the documentation, this is just an example to show that in Spark)"
      ],
      "metadata": {
        "id": "SvRs6uwnEASQ"
      }
    },
    {
      "cell_type": "code",
      "source": [
        "readings = df.select('Timestamp','Temperature','Wind_speed','Visibility','Weather_group','Description')\n",
        "readings_when_raining = readings.withColumn('Is_it_raining?',when(readings.Weather_group == 'Rain', 'Yes').when(readings.Weather_group == 'Drizzle','Sort of').otherwise('No'))\n",
        "readings_when_raining.show()"
      ],
      "metadata": {
        "colab": {
          "base_uri": "https://localhost:8080/"
        },
        "id": "4dzJEcLS5fkc",
        "outputId": "e4df750b-8a11-4a29-93ce-52d3625a10f1"
      },
      "execution_count": 34,
      "outputs": [
        {
          "output_type": "stream",
          "name": "stdout",
          "text": [
            "+-------------------+-----------+----------+----------+-------------+--------------------+--------------+\n",
            "|          Timestamp|Temperature|Wind_speed|Visibility|Weather_group|         Description|Is_it_raining?|\n",
            "+-------------------+-----------+----------+----------+-------------+--------------------+--------------+\n",
            "|2023-12-11 20:00:02|       5.98|      1.54|     10000|       Clouds|       broken clouds|            No|\n",
            "|2023-12-11 20:30:04|        6.3|      1.54|      6000|       Clouds|       broken clouds|            No|\n",
            "|2023-12-11 21:00:03|       6.49|      1.54|     10000|      Drizzle|light intensity d...|       Sort of|\n",
            "|2023-12-11 21:30:03|        6.0|      1.54|     10000|      Drizzle|light intensity d...|       Sort of|\n",
            "|2023-12-11 22:00:03|       6.24|      1.54|      3000|      Drizzle|light intensity d...|       Sort of|\n",
            "|2023-12-11 22:30:03|        6.0|      1.54|       500|          Fog|                 fog|            No|\n",
            "|2023-12-11 23:00:03|        6.0|      2.06|       300|          Fog|                 fog|            No|\n",
            "|2023-12-11 23:30:03|       5.77|      1.54|       400|          Fog|                 fog|            No|\n",
            "|2023-12-12 00:00:03|       5.48|       2.0|     10000|       Clouds|     overcast clouds|            No|\n",
            "|2023-12-12 00:30:03|       5.39|      0.45|     10000|       Clouds|     overcast clouds|            No|\n",
            "|2023-12-12 01:00:03|       5.26|      2.16|     10000|       Clouds|     overcast clouds|            No|\n",
            "|2023-12-12 01:30:02|       5.39|      0.45|     10000|       Clouds|     overcast clouds|            No|\n",
            "|2023-12-12 02:00:02|       5.43|      0.45|     10000|       Clouds|     overcast clouds|            No|\n",
            "|2023-12-12 02:30:02|       5.52|      2.82|     10000|         Rain|       moderate rain|           Yes|\n",
            "|2023-12-12 03:00:02|        5.6|      0.45|     10000|         Rain|          light rain|           Yes|\n",
            "|2023-12-12 03:30:02|       5.83|      0.45|      3090|         Rain|heavy intensity rain|           Yes|\n",
            "|2023-12-12 04:00:02|       5.96|      0.45|      3090|         Rain|heavy intensity rain|           Yes|\n",
            "|2023-12-12 04:30:02|       6.09|      0.45|      3092|         Rain|          light rain|           Yes|\n",
            "|2023-12-12 05:00:02|       6.14|      0.45|       275|       Clouds|     overcast clouds|            No|\n",
            "|2023-12-12 05:30:02|       6.12|      2.57|      1300|         Mist|                mist|            No|\n",
            "+-------------------+-----------+----------+----------+-------------+--------------------+--------------+\n",
            "only showing top 20 rows\n",
            "\n"
          ]
        }
      ]
    },
    {
      "cell_type": "markdown",
      "source": [
        "Added an additional column to highlight when it is raining"
      ],
      "metadata": {
        "id": "xdFXmMS2A599"
      }
    },
    {
      "cell_type": "code",
      "source": [
        "reading_only_rain = readings.filter(readings.Weather_group == 'Rain')\n",
        "reading_only_rain.show()"
      ],
      "metadata": {
        "colab": {
          "base_uri": "https://localhost:8080/"
        },
        "id": "Tse5vBwaBAUT",
        "outputId": "50aec69a-7408-4ba3-de82-de7a7798b03e"
      },
      "execution_count": 32,
      "outputs": [
        {
          "output_type": "stream",
          "name": "stdout",
          "text": [
            "+-------------------+-----------+----------+----------+-------------+--------------------+\n",
            "|          Timestamp|Temperature|Wind_speed|Visibility|Weather_group|         Description|\n",
            "+-------------------+-----------+----------+----------+-------------+--------------------+\n",
            "|2023-12-12 02:30:02|       5.52|      2.82|     10000|         Rain|       moderate rain|\n",
            "|2023-12-12 03:00:02|        5.6|      0.45|     10000|         Rain|          light rain|\n",
            "|2023-12-12 03:30:02|       5.83|      0.45|      3090|         Rain|heavy intensity rain|\n",
            "|2023-12-12 04:00:02|       5.96|      0.45|      3090|         Rain|heavy intensity rain|\n",
            "|2023-12-12 04:30:02|       6.09|      0.45|      3092|         Rain|          light rain|\n",
            "|2023-12-14 05:00:02|       1.87|      0.45|     10000|         Rain|          light rain|\n",
            "+-------------------+-----------+----------+----------+-------------+--------------------+\n",
            "\n"
          ]
        }
      ]
    },
    {
      "cell_type": "markdown",
      "source": [
        "Similar to above, but only selecting rows when it is raining. You could also match the description to be more precise."
      ],
      "metadata": {
        "id": "jNptj8CKBkdH"
      }
    },
    {
      "cell_type": "markdown",
      "source": [],
      "metadata": {
        "id": "W_UaJ6_hBkYM"
      }
    }
  ]
}